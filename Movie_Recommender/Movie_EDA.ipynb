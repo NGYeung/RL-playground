{
 "cells": [
  {
   "cell_type": "code",
   "execution_count": 1,
   "id": "b00d27bd-3296-4ac6-b8b5-2609ef47c36e",
   "metadata": {},
   "outputs": [],
   "source": [
    "import numpy as np\n",
    "import pandas as pd\n",
    "\n"
   ]
  },
  {
   "cell_type": "markdown",
   "id": "704bfb39-cd62-40a4-aa3f-e58c4367b7c3",
   "metadata": {},
   "source": [
    "This is an exploratory analysis of the Movie 100K dataset for our recommender system project"
   ]
  },
  {
   "cell_type": "code",
   "execution_count": 4,
   "id": "22e3fc55-80b0-4650-ae50-7c32d1761e3a",
   "metadata": {},
   "outputs": [],
   "source": [
    "items_file = r\"C:\\Users\\yyBee\\Datasets\\ml-100k\\ml-100k\\u.item\"\n",
    "ratings_file = r\"C:\\Users\\yyBee\\Datasets\\ml-100k\\ml-100k\\u.data\"\n",
    "users_file = r\"C:\\Users\\yyBee\\Datasets\\ml-100k\\ml-100k\\u.user\""
   ]
  },
  {
   "cell_type": "code",
   "execution_count": 6,
   "id": "3ef5ea69-e2eb-4d49-8d76-c75498617529",
   "metadata": {},
   "outputs": [],
   "source": [
    "column_names = ['user_id', 'age', 'gender', 'occupation', 'zip_code']\n",
    "users = pd.read_csv(users_file, sep = '|', names = column_names)\n"
   ]
  },
  {
   "cell_type": "code",
   "execution_count": 8,
   "id": "1a0d5d68-054f-49a0-a473-f4ce52cc3175",
   "metadata": {},
   "outputs": [
    {
     "data": {
      "text/html": [
       "<div>\n",
       "<style scoped>\n",
       "    .dataframe tbody tr th:only-of-type {\n",
       "        vertical-align: middle;\n",
       "    }\n",
       "\n",
       "    .dataframe tbody tr th {\n",
       "        vertical-align: top;\n",
       "    }\n",
       "\n",
       "    .dataframe thead th {\n",
       "        text-align: right;\n",
       "    }\n",
       "</style>\n",
       "<table border=\"1\" class=\"dataframe\">\n",
       "  <thead>\n",
       "    <tr style=\"text-align: right;\">\n",
       "      <th></th>\n",
       "      <th>user_id</th>\n",
       "      <th>age</th>\n",
       "      <th>gender</th>\n",
       "      <th>occupation</th>\n",
       "      <th>zip_code</th>\n",
       "    </tr>\n",
       "  </thead>\n",
       "  <tbody>\n",
       "    <tr>\n",
       "      <th>0</th>\n",
       "      <td>1</td>\n",
       "      <td>24</td>\n",
       "      <td>M</td>\n",
       "      <td>technician</td>\n",
       "      <td>85711</td>\n",
       "    </tr>\n",
       "    <tr>\n",
       "      <th>1</th>\n",
       "      <td>2</td>\n",
       "      <td>53</td>\n",
       "      <td>F</td>\n",
       "      <td>other</td>\n",
       "      <td>94043</td>\n",
       "    </tr>\n",
       "    <tr>\n",
       "      <th>2</th>\n",
       "      <td>3</td>\n",
       "      <td>23</td>\n",
       "      <td>M</td>\n",
       "      <td>writer</td>\n",
       "      <td>32067</td>\n",
       "    </tr>\n",
       "    <tr>\n",
       "      <th>3</th>\n",
       "      <td>4</td>\n",
       "      <td>24</td>\n",
       "      <td>M</td>\n",
       "      <td>technician</td>\n",
       "      <td>43537</td>\n",
       "    </tr>\n",
       "    <tr>\n",
       "      <th>4</th>\n",
       "      <td>5</td>\n",
       "      <td>33</td>\n",
       "      <td>F</td>\n",
       "      <td>other</td>\n",
       "      <td>15213</td>\n",
       "    </tr>\n",
       "    <tr>\n",
       "      <th>...</th>\n",
       "      <td>...</td>\n",
       "      <td>...</td>\n",
       "      <td>...</td>\n",
       "      <td>...</td>\n",
       "      <td>...</td>\n",
       "    </tr>\n",
       "    <tr>\n",
       "      <th>938</th>\n",
       "      <td>939</td>\n",
       "      <td>26</td>\n",
       "      <td>F</td>\n",
       "      <td>student</td>\n",
       "      <td>33319</td>\n",
       "    </tr>\n",
       "    <tr>\n",
       "      <th>939</th>\n",
       "      <td>940</td>\n",
       "      <td>32</td>\n",
       "      <td>M</td>\n",
       "      <td>administrator</td>\n",
       "      <td>02215</td>\n",
       "    </tr>\n",
       "    <tr>\n",
       "      <th>940</th>\n",
       "      <td>941</td>\n",
       "      <td>20</td>\n",
       "      <td>M</td>\n",
       "      <td>student</td>\n",
       "      <td>97229</td>\n",
       "    </tr>\n",
       "    <tr>\n",
       "      <th>941</th>\n",
       "      <td>942</td>\n",
       "      <td>48</td>\n",
       "      <td>F</td>\n",
       "      <td>librarian</td>\n",
       "      <td>78209</td>\n",
       "    </tr>\n",
       "    <tr>\n",
       "      <th>942</th>\n",
       "      <td>943</td>\n",
       "      <td>22</td>\n",
       "      <td>M</td>\n",
       "      <td>student</td>\n",
       "      <td>77841</td>\n",
       "    </tr>\n",
       "  </tbody>\n",
       "</table>\n",
       "<p>943 rows × 5 columns</p>\n",
       "</div>"
      ],
      "text/plain": [
       "     user_id  age gender     occupation zip_code\n",
       "0          1   24      M     technician    85711\n",
       "1          2   53      F          other    94043\n",
       "2          3   23      M         writer    32067\n",
       "3          4   24      M     technician    43537\n",
       "4          5   33      F          other    15213\n",
       "..       ...  ...    ...            ...      ...\n",
       "938      939   26      F        student    33319\n",
       "939      940   32      M  administrator    02215\n",
       "940      941   20      M        student    97229\n",
       "941      942   48      F      librarian    78209\n",
       "942      943   22      M        student    77841\n",
       "\n",
       "[943 rows x 5 columns]"
      ]
     },
     "execution_count": 8,
     "metadata": {},
     "output_type": "execute_result"
    }
   ],
   "source": [
    "users"
   ]
  },
  {
   "cell_type": "code",
   "execution_count": 10,
   "id": "062f1f16-8251-43fe-8e9b-fd91c24bd2f5",
   "metadata": {},
   "outputs": [],
   "source": [
    "users.to_csv(r'C:\\Users\\yyBee\\Datasets\\ml-100k\\user_info.csv')"
   ]
  },
  {
   "cell_type": "code",
   "execution_count": 12,
   "id": "a8d573e3-88ca-47a6-83f7-cec9250e88b1",
   "metadata": {},
   "outputs": [],
   "source": [
    "names = ['user_id' , 'item_id' , 'rating' , 'timestamp']\n",
    "ratings = pd.read_csv(ratings_file, sep = '\\t', names = names)"
   ]
  },
  {
   "cell_type": "code",
   "execution_count": 14,
   "id": "f2cdd588-d720-43a5-a5fe-0d62d7945b09",
   "metadata": {},
   "outputs": [
    {
     "data": {
      "text/html": [
       "<div>\n",
       "<style scoped>\n",
       "    .dataframe tbody tr th:only-of-type {\n",
       "        vertical-align: middle;\n",
       "    }\n",
       "\n",
       "    .dataframe tbody tr th {\n",
       "        vertical-align: top;\n",
       "    }\n",
       "\n",
       "    .dataframe thead th {\n",
       "        text-align: right;\n",
       "    }\n",
       "</style>\n",
       "<table border=\"1\" class=\"dataframe\">\n",
       "  <thead>\n",
       "    <tr style=\"text-align: right;\">\n",
       "      <th></th>\n",
       "      <th>user_id</th>\n",
       "      <th>item_id</th>\n",
       "      <th>rating</th>\n",
       "      <th>timestamp</th>\n",
       "    </tr>\n",
       "  </thead>\n",
       "  <tbody>\n",
       "    <tr>\n",
       "      <th>0</th>\n",
       "      <td>196</td>\n",
       "      <td>242</td>\n",
       "      <td>3</td>\n",
       "      <td>881250949</td>\n",
       "    </tr>\n",
       "    <tr>\n",
       "      <th>1</th>\n",
       "      <td>186</td>\n",
       "      <td>302</td>\n",
       "      <td>3</td>\n",
       "      <td>891717742</td>\n",
       "    </tr>\n",
       "    <tr>\n",
       "      <th>2</th>\n",
       "      <td>22</td>\n",
       "      <td>377</td>\n",
       "      <td>1</td>\n",
       "      <td>878887116</td>\n",
       "    </tr>\n",
       "    <tr>\n",
       "      <th>3</th>\n",
       "      <td>244</td>\n",
       "      <td>51</td>\n",
       "      <td>2</td>\n",
       "      <td>880606923</td>\n",
       "    </tr>\n",
       "    <tr>\n",
       "      <th>4</th>\n",
       "      <td>166</td>\n",
       "      <td>346</td>\n",
       "      <td>1</td>\n",
       "      <td>886397596</td>\n",
       "    </tr>\n",
       "    <tr>\n",
       "      <th>...</th>\n",
       "      <td>...</td>\n",
       "      <td>...</td>\n",
       "      <td>...</td>\n",
       "      <td>...</td>\n",
       "    </tr>\n",
       "    <tr>\n",
       "      <th>99995</th>\n",
       "      <td>880</td>\n",
       "      <td>476</td>\n",
       "      <td>3</td>\n",
       "      <td>880175444</td>\n",
       "    </tr>\n",
       "    <tr>\n",
       "      <th>99996</th>\n",
       "      <td>716</td>\n",
       "      <td>204</td>\n",
       "      <td>5</td>\n",
       "      <td>879795543</td>\n",
       "    </tr>\n",
       "    <tr>\n",
       "      <th>99997</th>\n",
       "      <td>276</td>\n",
       "      <td>1090</td>\n",
       "      <td>1</td>\n",
       "      <td>874795795</td>\n",
       "    </tr>\n",
       "    <tr>\n",
       "      <th>99998</th>\n",
       "      <td>13</td>\n",
       "      <td>225</td>\n",
       "      <td>2</td>\n",
       "      <td>882399156</td>\n",
       "    </tr>\n",
       "    <tr>\n",
       "      <th>99999</th>\n",
       "      <td>12</td>\n",
       "      <td>203</td>\n",
       "      <td>3</td>\n",
       "      <td>879959583</td>\n",
       "    </tr>\n",
       "  </tbody>\n",
       "</table>\n",
       "<p>100000 rows × 4 columns</p>\n",
       "</div>"
      ],
      "text/plain": [
       "       user_id  item_id  rating  timestamp\n",
       "0          196      242       3  881250949\n",
       "1          186      302       3  891717742\n",
       "2           22      377       1  878887116\n",
       "3          244       51       2  880606923\n",
       "4          166      346       1  886397596\n",
       "...        ...      ...     ...        ...\n",
       "99995      880      476       3  880175444\n",
       "99996      716      204       5  879795543\n",
       "99997      276     1090       1  874795795\n",
       "99998       13      225       2  882399156\n",
       "99999       12      203       3  879959583\n",
       "\n",
       "[100000 rows x 4 columns]"
      ]
     },
     "execution_count": 14,
     "metadata": {},
     "output_type": "execute_result"
    }
   ],
   "source": [
    "ratings"
   ]
  },
  {
   "cell_type": "code",
   "execution_count": 16,
   "id": "106d0628-7577-4d3a-9bfd-45717100fc79",
   "metadata": {},
   "outputs": [],
   "source": [
    "with open(items_file, 'r', encoding='utf-8', errors='ignore') as file:\n",
    "    content = file.readlines()\n",
    "\n",
    "# Use pandas to read the content\n",
    "from io import StringIO\n",
    "data = StringIO(''.join(content))\n",
    "\n",
    "\n",
    "temp_column_names = [i for i in range(25)]\n",
    "items = pd.read_csv(data, sep = '|', names = temp_column_names)"
   ]
  },
  {
   "cell_type": "code",
   "execution_count": 18,
   "id": "e0b04f55-a792-4aed-a6e6-9f52e6d050dc",
   "metadata": {},
   "outputs": [],
   "source": [
    "items = items.drop([3,4,24],axis =1)"
   ]
  },
  {
   "cell_type": "code",
   "execution_count": 19,
   "id": "f8dcc117-d29f-4d25-9b6c-287c6bdca83d",
   "metadata": {},
   "outputs": [],
   "source": [
    "item_genres = items.iloc[:,3:]\n",
    "item_genres =  item_genres.values.tolist()\n",
    "item_genres = [np.array(row) for row in item_genres]"
   ]
  },
  {
   "cell_type": "code",
   "execution_count": 22,
   "id": "8dbeb6f9-8adc-44d6-ba1b-afa6d38a193a",
   "metadata": {},
   "outputs": [],
   "source": [
    "items = items.iloc[:,:3]"
   ]
  },
  {
   "cell_type": "code",
   "execution_count": 24,
   "id": "bda7b0c5-0e0f-4244-be7d-9709f37e38f6",
   "metadata": {},
   "outputs": [],
   "source": [
    "items['genres'] = item_genres"
   ]
  },
  {
   "cell_type": "code",
   "execution_count": 26,
   "id": "6ab98e80-5c14-493a-b7e1-ba465a10a549",
   "metadata": {},
   "outputs": [
    {
     "data": {
      "text/html": [
       "<div>\n",
       "<style scoped>\n",
       "    .dataframe tbody tr th:only-of-type {\n",
       "        vertical-align: middle;\n",
       "    }\n",
       "\n",
       "    .dataframe tbody tr th {\n",
       "        vertical-align: top;\n",
       "    }\n",
       "\n",
       "    .dataframe thead th {\n",
       "        text-align: right;\n",
       "    }\n",
       "</style>\n",
       "<table border=\"1\" class=\"dataframe\">\n",
       "  <thead>\n",
       "    <tr style=\"text-align: right;\">\n",
       "      <th></th>\n",
       "      <th>movie_id</th>\n",
       "      <th>title</th>\n",
       "      <th>date</th>\n",
       "      <th>genre</th>\n",
       "    </tr>\n",
       "  </thead>\n",
       "  <tbody>\n",
       "    <tr>\n",
       "      <th>0</th>\n",
       "      <td>1</td>\n",
       "      <td>Toy Story (1995)</td>\n",
       "      <td>01-Jan-1995</td>\n",
       "      <td>[0, 0, 0, 1, 1, 1, 0, 0, 0, 0, 0, 0, 0, 0, 0, ...</td>\n",
       "    </tr>\n",
       "    <tr>\n",
       "      <th>1</th>\n",
       "      <td>2</td>\n",
       "      <td>GoldenEye (1995)</td>\n",
       "      <td>01-Jan-1995</td>\n",
       "      <td>[0, 1, 1, 0, 0, 0, 0, 0, 0, 0, 0, 0, 0, 0, 0, ...</td>\n",
       "    </tr>\n",
       "    <tr>\n",
       "      <th>2</th>\n",
       "      <td>3</td>\n",
       "      <td>Four Rooms (1995)</td>\n",
       "      <td>01-Jan-1995</td>\n",
       "      <td>[0, 0, 0, 0, 0, 0, 0, 0, 0, 0, 0, 0, 0, 0, 0, ...</td>\n",
       "    </tr>\n",
       "    <tr>\n",
       "      <th>3</th>\n",
       "      <td>4</td>\n",
       "      <td>Get Shorty (1995)</td>\n",
       "      <td>01-Jan-1995</td>\n",
       "      <td>[0, 1, 0, 0, 0, 1, 0, 0, 1, 0, 0, 0, 0, 0, 0, ...</td>\n",
       "    </tr>\n",
       "    <tr>\n",
       "      <th>4</th>\n",
       "      <td>5</td>\n",
       "      <td>Copycat (1995)</td>\n",
       "      <td>01-Jan-1995</td>\n",
       "      <td>[0, 0, 0, 0, 0, 0, 1, 0, 1, 0, 0, 0, 0, 0, 0, ...</td>\n",
       "    </tr>\n",
       "    <tr>\n",
       "      <th>...</th>\n",
       "      <td>...</td>\n",
       "      <td>...</td>\n",
       "      <td>...</td>\n",
       "      <td>...</td>\n",
       "    </tr>\n",
       "    <tr>\n",
       "      <th>1677</th>\n",
       "      <td>1678</td>\n",
       "      <td>Mat' i syn (1997)</td>\n",
       "      <td>06-Feb-1998</td>\n",
       "      <td>[0, 0, 0, 0, 0, 0, 0, 0, 1, 0, 0, 0, 0, 0, 0, ...</td>\n",
       "    </tr>\n",
       "    <tr>\n",
       "      <th>1678</th>\n",
       "      <td>1679</td>\n",
       "      <td>B. Monkey (1998)</td>\n",
       "      <td>06-Feb-1998</td>\n",
       "      <td>[0, 0, 0, 0, 0, 0, 0, 0, 0, 0, 0, 0, 0, 0, 1, ...</td>\n",
       "    </tr>\n",
       "    <tr>\n",
       "      <th>1679</th>\n",
       "      <td>1680</td>\n",
       "      <td>Sliding Doors (1998)</td>\n",
       "      <td>01-Jan-1998</td>\n",
       "      <td>[0, 0, 0, 0, 0, 0, 0, 0, 1, 0, 0, 0, 0, 0, 1, ...</td>\n",
       "    </tr>\n",
       "    <tr>\n",
       "      <th>1680</th>\n",
       "      <td>1681</td>\n",
       "      <td>You So Crazy (1994)</td>\n",
       "      <td>01-Jan-1994</td>\n",
       "      <td>[0, 0, 0, 0, 0, 1, 0, 0, 0, 0, 0, 0, 0, 0, 0, ...</td>\n",
       "    </tr>\n",
       "    <tr>\n",
       "      <th>1681</th>\n",
       "      <td>1682</td>\n",
       "      <td>Scream of Stone (Schrei aus Stein) (1991)</td>\n",
       "      <td>08-Mar-1996</td>\n",
       "      <td>[0, 0, 0, 0, 0, 0, 0, 0, 1, 0, 0, 0, 0, 0, 0, ...</td>\n",
       "    </tr>\n",
       "  </tbody>\n",
       "</table>\n",
       "<p>1682 rows × 4 columns</p>\n",
       "</div>"
      ],
      "text/plain": [
       "      movie_id                                      title         date  \\\n",
       "0            1                           Toy Story (1995)  01-Jan-1995   \n",
       "1            2                           GoldenEye (1995)  01-Jan-1995   \n",
       "2            3                          Four Rooms (1995)  01-Jan-1995   \n",
       "3            4                          Get Shorty (1995)  01-Jan-1995   \n",
       "4            5                             Copycat (1995)  01-Jan-1995   \n",
       "...        ...                                        ...          ...   \n",
       "1677      1678                          Mat' i syn (1997)  06-Feb-1998   \n",
       "1678      1679                           B. Monkey (1998)  06-Feb-1998   \n",
       "1679      1680                       Sliding Doors (1998)  01-Jan-1998   \n",
       "1680      1681                        You So Crazy (1994)  01-Jan-1994   \n",
       "1681      1682  Scream of Stone (Schrei aus Stein) (1991)  08-Mar-1996   \n",
       "\n",
       "                                                  genre  \n",
       "0     [0, 0, 0, 1, 1, 1, 0, 0, 0, 0, 0, 0, 0, 0, 0, ...  \n",
       "1     [0, 1, 1, 0, 0, 0, 0, 0, 0, 0, 0, 0, 0, 0, 0, ...  \n",
       "2     [0, 0, 0, 0, 0, 0, 0, 0, 0, 0, 0, 0, 0, 0, 0, ...  \n",
       "3     [0, 1, 0, 0, 0, 1, 0, 0, 1, 0, 0, 0, 0, 0, 0, ...  \n",
       "4     [0, 0, 0, 0, 0, 0, 1, 0, 1, 0, 0, 0, 0, 0, 0, ...  \n",
       "...                                                 ...  \n",
       "1677  [0, 0, 0, 0, 0, 0, 0, 0, 1, 0, 0, 0, 0, 0, 0, ...  \n",
       "1678  [0, 0, 0, 0, 0, 0, 0, 0, 0, 0, 0, 0, 0, 0, 1, ...  \n",
       "1679  [0, 0, 0, 0, 0, 0, 0, 0, 1, 0, 0, 0, 0, 0, 1, ...  \n",
       "1680  [0, 0, 0, 0, 0, 1, 0, 0, 0, 0, 0, 0, 0, 0, 0, ...  \n",
       "1681  [0, 0, 0, 0, 0, 0, 0, 0, 1, 0, 0, 0, 0, 0, 0, ...  \n",
       "\n",
       "[1682 rows x 4 columns]"
      ]
     },
     "execution_count": 26,
     "metadata": {},
     "output_type": "execute_result"
    }
   ],
   "source": [
    "items = items.set_axis(['movie_id','title','date','genre'],axis = 1)\n",
    "items"
   ]
  },
  {
   "cell_type": "code",
   "execution_count": 28,
   "id": "893ab6c3-721f-44f1-bca7-48b076afb502",
   "metadata": {},
   "outputs": [],
   "source": [
    "items.to_csv(r'C:\\Users\\yyBee\\Datasets\\ml-100k\\movies_info.csv')"
   ]
  },
  {
   "cell_type": "markdown",
   "id": "1bb5c1c4-4d61-478e-be30-ab76113f7d81",
   "metadata": {},
   "source": [
    "A closer look at the genres:"
   ]
  },
  {
   "cell_type": "code",
   "execution_count": 31,
   "id": "c5e502df-d4e5-4dbb-bbc2-56e48676ed89",
   "metadata": {},
   "outputs": [],
   "source": [
    "with open(items_file, 'r', encoding='utf-8', errors='ignore') as file:\n",
    "    content = file.readlines()\n",
    "\n",
    "# Use pandas to read the content\n",
    "from io import StringIO\n",
    "data = StringIO(''.join(content))\n",
    "temp_column_names = [i for i in range(25)]\n",
    "genre_tab = pd.read_csv(data, sep = '|', names = temp_column_names)"
   ]
  },
  {
   "cell_type": "code",
   "execution_count": 33,
   "id": "b6fdf699-334f-4cd4-82f6-72430f37f81a",
   "metadata": {},
   "outputs": [],
   "source": [
    "genre_tab = genre_tab.iloc[:,5:24]\n"
   ]
  },
  {
   "cell_type": "code",
   "execution_count": 35,
   "id": "c4a16842-7782-440b-800e-25776bb32fec",
   "metadata": {},
   "outputs": [
    {
     "data": {
      "text/html": [
       "<div>\n",
       "<style scoped>\n",
       "    .dataframe tbody tr th:only-of-type {\n",
       "        vertical-align: middle;\n",
       "    }\n",
       "\n",
       "    .dataframe tbody tr th {\n",
       "        vertical-align: top;\n",
       "    }\n",
       "\n",
       "    .dataframe thead th {\n",
       "        text-align: right;\n",
       "    }\n",
       "</style>\n",
       "<table border=\"1\" class=\"dataframe\">\n",
       "  <thead>\n",
       "    <tr style=\"text-align: right;\">\n",
       "      <th></th>\n",
       "      <th>unknown</th>\n",
       "      <th>Action</th>\n",
       "      <th>Adventure</th>\n",
       "      <th>Animation</th>\n",
       "      <th>Children</th>\n",
       "      <th>Comedy</th>\n",
       "      <th>Crime</th>\n",
       "      <th>Documentary</th>\n",
       "      <th>Drama</th>\n",
       "      <th>Fantasy</th>\n",
       "      <th>Film-Noir</th>\n",
       "      <th>Horror</th>\n",
       "      <th>Musical</th>\n",
       "      <th>Mystery</th>\n",
       "      <th>Romance</th>\n",
       "      <th>Sci-Fi</th>\n",
       "      <th>Thriller</th>\n",
       "      <th>War</th>\n",
       "      <th>Western</th>\n",
       "    </tr>\n",
       "  </thead>\n",
       "  <tbody>\n",
       "    <tr>\n",
       "      <th>0</th>\n",
       "      <td>0</td>\n",
       "      <td>0</td>\n",
       "      <td>0</td>\n",
       "      <td>1</td>\n",
       "      <td>1</td>\n",
       "      <td>1</td>\n",
       "      <td>0</td>\n",
       "      <td>0</td>\n",
       "      <td>0</td>\n",
       "      <td>0</td>\n",
       "      <td>0</td>\n",
       "      <td>0</td>\n",
       "      <td>0</td>\n",
       "      <td>0</td>\n",
       "      <td>0</td>\n",
       "      <td>0</td>\n",
       "      <td>0</td>\n",
       "      <td>0</td>\n",
       "      <td>0</td>\n",
       "    </tr>\n",
       "    <tr>\n",
       "      <th>1</th>\n",
       "      <td>0</td>\n",
       "      <td>1</td>\n",
       "      <td>1</td>\n",
       "      <td>0</td>\n",
       "      <td>0</td>\n",
       "      <td>0</td>\n",
       "      <td>0</td>\n",
       "      <td>0</td>\n",
       "      <td>0</td>\n",
       "      <td>0</td>\n",
       "      <td>0</td>\n",
       "      <td>0</td>\n",
       "      <td>0</td>\n",
       "      <td>0</td>\n",
       "      <td>0</td>\n",
       "      <td>0</td>\n",
       "      <td>1</td>\n",
       "      <td>0</td>\n",
       "      <td>0</td>\n",
       "    </tr>\n",
       "    <tr>\n",
       "      <th>2</th>\n",
       "      <td>0</td>\n",
       "      <td>0</td>\n",
       "      <td>0</td>\n",
       "      <td>0</td>\n",
       "      <td>0</td>\n",
       "      <td>0</td>\n",
       "      <td>0</td>\n",
       "      <td>0</td>\n",
       "      <td>0</td>\n",
       "      <td>0</td>\n",
       "      <td>0</td>\n",
       "      <td>0</td>\n",
       "      <td>0</td>\n",
       "      <td>0</td>\n",
       "      <td>0</td>\n",
       "      <td>0</td>\n",
       "      <td>1</td>\n",
       "      <td>0</td>\n",
       "      <td>0</td>\n",
       "    </tr>\n",
       "    <tr>\n",
       "      <th>3</th>\n",
       "      <td>0</td>\n",
       "      <td>1</td>\n",
       "      <td>0</td>\n",
       "      <td>0</td>\n",
       "      <td>0</td>\n",
       "      <td>1</td>\n",
       "      <td>0</td>\n",
       "      <td>0</td>\n",
       "      <td>1</td>\n",
       "      <td>0</td>\n",
       "      <td>0</td>\n",
       "      <td>0</td>\n",
       "      <td>0</td>\n",
       "      <td>0</td>\n",
       "      <td>0</td>\n",
       "      <td>0</td>\n",
       "      <td>0</td>\n",
       "      <td>0</td>\n",
       "      <td>0</td>\n",
       "    </tr>\n",
       "    <tr>\n",
       "      <th>4</th>\n",
       "      <td>0</td>\n",
       "      <td>0</td>\n",
       "      <td>0</td>\n",
       "      <td>0</td>\n",
       "      <td>0</td>\n",
       "      <td>0</td>\n",
       "      <td>1</td>\n",
       "      <td>0</td>\n",
       "      <td>1</td>\n",
       "      <td>0</td>\n",
       "      <td>0</td>\n",
       "      <td>0</td>\n",
       "      <td>0</td>\n",
       "      <td>0</td>\n",
       "      <td>0</td>\n",
       "      <td>0</td>\n",
       "      <td>1</td>\n",
       "      <td>0</td>\n",
       "      <td>0</td>\n",
       "    </tr>\n",
       "    <tr>\n",
       "      <th>...</th>\n",
       "      <td>...</td>\n",
       "      <td>...</td>\n",
       "      <td>...</td>\n",
       "      <td>...</td>\n",
       "      <td>...</td>\n",
       "      <td>...</td>\n",
       "      <td>...</td>\n",
       "      <td>...</td>\n",
       "      <td>...</td>\n",
       "      <td>...</td>\n",
       "      <td>...</td>\n",
       "      <td>...</td>\n",
       "      <td>...</td>\n",
       "      <td>...</td>\n",
       "      <td>...</td>\n",
       "      <td>...</td>\n",
       "      <td>...</td>\n",
       "      <td>...</td>\n",
       "      <td>...</td>\n",
       "    </tr>\n",
       "    <tr>\n",
       "      <th>1677</th>\n",
       "      <td>0</td>\n",
       "      <td>0</td>\n",
       "      <td>0</td>\n",
       "      <td>0</td>\n",
       "      <td>0</td>\n",
       "      <td>0</td>\n",
       "      <td>0</td>\n",
       "      <td>0</td>\n",
       "      <td>1</td>\n",
       "      <td>0</td>\n",
       "      <td>0</td>\n",
       "      <td>0</td>\n",
       "      <td>0</td>\n",
       "      <td>0</td>\n",
       "      <td>0</td>\n",
       "      <td>0</td>\n",
       "      <td>0</td>\n",
       "      <td>0</td>\n",
       "      <td>0</td>\n",
       "    </tr>\n",
       "    <tr>\n",
       "      <th>1678</th>\n",
       "      <td>0</td>\n",
       "      <td>0</td>\n",
       "      <td>0</td>\n",
       "      <td>0</td>\n",
       "      <td>0</td>\n",
       "      <td>0</td>\n",
       "      <td>0</td>\n",
       "      <td>0</td>\n",
       "      <td>0</td>\n",
       "      <td>0</td>\n",
       "      <td>0</td>\n",
       "      <td>0</td>\n",
       "      <td>0</td>\n",
       "      <td>0</td>\n",
       "      <td>1</td>\n",
       "      <td>0</td>\n",
       "      <td>1</td>\n",
       "      <td>0</td>\n",
       "      <td>0</td>\n",
       "    </tr>\n",
       "    <tr>\n",
       "      <th>1679</th>\n",
       "      <td>0</td>\n",
       "      <td>0</td>\n",
       "      <td>0</td>\n",
       "      <td>0</td>\n",
       "      <td>0</td>\n",
       "      <td>0</td>\n",
       "      <td>0</td>\n",
       "      <td>0</td>\n",
       "      <td>1</td>\n",
       "      <td>0</td>\n",
       "      <td>0</td>\n",
       "      <td>0</td>\n",
       "      <td>0</td>\n",
       "      <td>0</td>\n",
       "      <td>1</td>\n",
       "      <td>0</td>\n",
       "      <td>0</td>\n",
       "      <td>0</td>\n",
       "      <td>0</td>\n",
       "    </tr>\n",
       "    <tr>\n",
       "      <th>1680</th>\n",
       "      <td>0</td>\n",
       "      <td>0</td>\n",
       "      <td>0</td>\n",
       "      <td>0</td>\n",
       "      <td>0</td>\n",
       "      <td>1</td>\n",
       "      <td>0</td>\n",
       "      <td>0</td>\n",
       "      <td>0</td>\n",
       "      <td>0</td>\n",
       "      <td>0</td>\n",
       "      <td>0</td>\n",
       "      <td>0</td>\n",
       "      <td>0</td>\n",
       "      <td>0</td>\n",
       "      <td>0</td>\n",
       "      <td>0</td>\n",
       "      <td>0</td>\n",
       "      <td>0</td>\n",
       "    </tr>\n",
       "    <tr>\n",
       "      <th>1681</th>\n",
       "      <td>0</td>\n",
       "      <td>0</td>\n",
       "      <td>0</td>\n",
       "      <td>0</td>\n",
       "      <td>0</td>\n",
       "      <td>0</td>\n",
       "      <td>0</td>\n",
       "      <td>0</td>\n",
       "      <td>1</td>\n",
       "      <td>0</td>\n",
       "      <td>0</td>\n",
       "      <td>0</td>\n",
       "      <td>0</td>\n",
       "      <td>0</td>\n",
       "      <td>0</td>\n",
       "      <td>0</td>\n",
       "      <td>0</td>\n",
       "      <td>0</td>\n",
       "      <td>0</td>\n",
       "    </tr>\n",
       "  </tbody>\n",
       "</table>\n",
       "<p>1682 rows × 19 columns</p>\n",
       "</div>"
      ],
      "text/plain": [
       "      unknown  Action  Adventure  Animation  Children  Comedy  Crime  \\\n",
       "0           0       0          0          1         1       1      0   \n",
       "1           0       1          1          0         0       0      0   \n",
       "2           0       0          0          0         0       0      0   \n",
       "3           0       1          0          0         0       1      0   \n",
       "4           0       0          0          0         0       0      1   \n",
       "...       ...     ...        ...        ...       ...     ...    ...   \n",
       "1677        0       0          0          0         0       0      0   \n",
       "1678        0       0          0          0         0       0      0   \n",
       "1679        0       0          0          0         0       0      0   \n",
       "1680        0       0          0          0         0       1      0   \n",
       "1681        0       0          0          0         0       0      0   \n",
       "\n",
       "      Documentary  Drama  Fantasy  Film-Noir  Horror  Musical  Mystery  \\\n",
       "0               0      0        0          0       0        0        0   \n",
       "1               0      0        0          0       0        0        0   \n",
       "2               0      0        0          0       0        0        0   \n",
       "3               0      1        0          0       0        0        0   \n",
       "4               0      1        0          0       0        0        0   \n",
       "...           ...    ...      ...        ...     ...      ...      ...   \n",
       "1677            0      1        0          0       0        0        0   \n",
       "1678            0      0        0          0       0        0        0   \n",
       "1679            0      1        0          0       0        0        0   \n",
       "1680            0      0        0          0       0        0        0   \n",
       "1681            0      1        0          0       0        0        0   \n",
       "\n",
       "      Romance  Sci-Fi  Thriller  War  Western  \n",
       "0           0       0         0    0        0  \n",
       "1           0       0         1    0        0  \n",
       "2           0       0         1    0        0  \n",
       "3           0       0         0    0        0  \n",
       "4           0       0         1    0        0  \n",
       "...       ...     ...       ...  ...      ...  \n",
       "1677        0       0         0    0        0  \n",
       "1678        1       0         1    0        0  \n",
       "1679        1       0         0    0        0  \n",
       "1680        0       0         0    0        0  \n",
       "1681        0       0         0    0        0  \n",
       "\n",
       "[1682 rows x 19 columns]"
      ]
     },
     "execution_count": 35,
     "metadata": {},
     "output_type": "execute_result"
    }
   ],
   "source": [
    "name =['unknown','Action', 'Adventure', 'Animation',\n",
    "              'Children', 'Comedy', 'Crime', 'Documentary', 'Drama', 'Fantasy',\n",
    "              'Film-Noir', 'Horror', 'Musical', 'Mystery', 'Romance', 'Sci-Fi', \n",
    "              'Thriller', 'War', 'Western']\n",
    "\n",
    "genre_tab = genre_tab.set_axis(name,axis =1)\n",
    "genre_tab\n"
   ]
  },
  {
   "cell_type": "code",
   "execution_count": 37,
   "id": "bae4117c-3cbc-4090-8f19-b48614ee71d7",
   "metadata": {},
   "outputs": [
    {
     "data": {
      "text/plain": [
       "[2,\n",
       " 251,\n",
       " 135,\n",
       " 42,\n",
       " 122,\n",
       " 505,\n",
       " 109,\n",
       " 50,\n",
       " 725,\n",
       " 22,\n",
       " 24,\n",
       " 92,\n",
       " 56,\n",
       " 61,\n",
       " 247,\n",
       " 101,\n",
       " 251,\n",
       " 71,\n",
       " 27]"
      ]
     },
     "execution_count": 37,
     "metadata": {},
     "output_type": "execute_result"
    }
   ],
   "source": [
    "# Count the occurence of each genre\n",
    "genre_count = genre_tab.sum()\n",
    "list(genre_count)"
   ]
  },
  {
   "cell_type": "code",
   "execution_count": 39,
   "id": "3e45c72c-bd25-47f9-acb1-94b5b2440c55",
   "metadata": {},
   "outputs": [
    {
     "data": {
      "text/plain": [
       "([0, 1, 2, 3, 4, 5, 6, 7, 8, 9, 10, 11, 12, 13, 14, 15, 16, 17, 18],\n",
       " [Text(0, 0, 'unknown'),\n",
       "  Text(1, 0, 'Action'),\n",
       "  Text(2, 0, 'Adventure'),\n",
       "  Text(3, 0, 'Animation'),\n",
       "  Text(4, 0, 'Children'),\n",
       "  Text(5, 0, 'Comedy'),\n",
       "  Text(6, 0, 'Crime'),\n",
       "  Text(7, 0, 'Documentary'),\n",
       "  Text(8, 0, 'Drama'),\n",
       "  Text(9, 0, 'Fantasy'),\n",
       "  Text(10, 0, 'Film-Noir'),\n",
       "  Text(11, 0, 'Horror'),\n",
       "  Text(12, 0, 'Musical'),\n",
       "  Text(13, 0, 'Mystery'),\n",
       "  Text(14, 0, 'Romance'),\n",
       "  Text(15, 0, 'Sci-Fi'),\n",
       "  Text(16, 0, 'Thriller'),\n",
       "  Text(17, 0, 'War'),\n",
       "  Text(18, 0, 'Western')])"
      ]
     },
     "execution_count": 39,
     "metadata": {},
     "output_type": "execute_result"
    },
    {
     "data": {
      "image/png": "[encoded data removed]",
      "text/plain": [
       "<Figure size 640x480 with 1 Axes>"
      ]
     },
     "metadata": {},
     "output_type": "display_data"
    }
   ],
   "source": [
    "import matplotlib.pyplot as plt\n",
    "\n",
    "plt.bar(name, list(genre_count), color='skyblue')\n",
    "plt.xticks(rotation=45, ha='right', fontsize=10) "
   ]
  },
  {
   "cell_type": "markdown",
   "id": "daf20627-0e55-47f1-b310-d87b83e64aee",
   "metadata": {},
   "source": [
    "From the bar plot above, the predominant genres are Drama and Comedy"
   ]
  },
  {
   "cell_type": "markdown",
   "id": "d1f52854-c34d-4dab-bb4e-3c7ed9b3c5de",
   "metadata": {},
   "source": [
    "Next, look at the user demographic data."
   ]
  },
  {
   "cell_type": "code",
   "execution_count": 51,
   "id": "f89c7d0f-423e-4d23-8f22-d92ba5e8d4be",
   "metadata": {},
   "outputs": [
    {
     "data": {
      "text/plain": [
       "Text(0.5, 1.0, 'User Gender Ratio')"
      ]
     },
     "execution_count": 51,
     "metadata": {},
     "output_type": "execute_result"
    },
    {
     "data": {
      "image/png": "[encoded data removed]",
      "text/plain": [
       "<Figure size 640x480 with 1 Axes>"
      ]
     },
     "metadata": {},
     "output_type": "display_data"
    }
   ],
   "source": [
    "# count the gender\n",
    "gender_count = users['gender'].value_counts()\n",
    "\n",
    "plt.bar(['M','F'], list(gender_count), color = 'skyblue')\n",
    "plt.title('User Gender Ratio')"
   ]
  },
  {
   "cell_type": "code",
   "execution_count": null,
   "id": "124fb406-4cc1-48fd-8ef5-25b05bf53da0",
   "metadata": {},
   "outputs": [],
   "source": [
    "# The Age, bin = every 10 year? every 5 years?"
   ]
  },
  {
   "cell_type": "code",
   "execution_count": 77,
   "id": "3fbc1e32-84dc-4427-b527-2e21601f5215",
   "metadata": {},
   "outputs": [
    {
     "data": {
      "text/plain": [
       "Text(0.5, 1.0, 'User Age Distribution')"
      ]
     },
     "execution_count": 77,
     "metadata": {},
     "output_type": "execute_result"
    },
    {
     "data": {
      "image/png": "[encoded data removed]",
      "text/plain": [
       "<Figure size 640x480 with 1 Axes>"
      ]
     },
     "metadata": {},
     "output_type": "display_data"
    }
   ],
   "source": [
    "Age = list(users['age'])\n",
    "bins = [0,10,20,30,40,50,60,70,80]\n",
    "plt.hist(Age, bins=bins, color = 'skyblue')\n",
    "plt.title('User Age Distribution')\n"
   ]
  },
  {
   "cell_type": "code",
   "execution_count": 69,
   "id": "df430a13-8fc8-4b46-89ce-03891e2915aa",
   "metadata": {},
   "outputs": [],
   "source": [
    "# User Occupation\n",
    "Occupation = dict(users['occupation'].value_counts())"
   ]
  },
  {
   "cell_type": "code",
   "execution_count": 71,
   "id": "af24d205-414d-4f51-aa38-7b9b3ad85476",
   "metadata": {},
   "outputs": [
    {
     "data": {
      "text/plain": [
       "{'student': 196,\n",
       " 'other': 105,\n",
       " 'educator': 95,\n",
       " 'administrator': 79,\n",
       " 'engineer': 67,\n",
       " 'programmer': 66,\n",
       " 'librarian': 51,\n",
       " 'writer': 45,\n",
       " 'executive': 32,\n",
       " 'scientist': 31,\n",
       " 'artist': 28,\n",
       " 'technician': 27,\n",
       " 'marketing': 26,\n",
       " 'entertainment': 18,\n",
       " 'healthcare': 16,\n",
       " 'retired': 14,\n",
       " 'lawyer': 12,\n",
       " 'salesman': 12,\n",
       " 'none': 9,\n",
       " 'homemaker': 7,\n",
       " 'doctor': 7}"
      ]
     },
     "execution_count": 71,
     "metadata": {},
     "output_type": "execute_result"
    }
   ],
   "source": [
    "Occupation"
   ]
  },
  {
   "cell_type": "code",
   "execution_count": 75,
   "id": "a82b0749-68ba-492e-968e-8103f60d05ee",
   "metadata": {},
   "outputs": [
    {
     "data": {
      "text/plain": [
       "Text(0.5, 1.0, 'User Occupation')"
      ]
     },
     "execution_count": 75,
     "metadata": {},
     "output_type": "execute_result"
    },
    {
     "data": {
      "image/png": "[encoded data removed]",
      "text/plain": [
       "<Figure size 640x480 with 1 Axes>"
      ]
     },
     "metadata": {},
     "output_type": "display_data"
    }
   ],
   "source": [
    "plt.bar(Occupation.keys(), Occupation.values(), color = 'skyblue')\n",
    "plt.xticks(rotation=45, ha='right', fontsize=10) \n",
    "plt.title('User Occupation')"
   ]
  },
  {
   "cell_type": "code",
   "execution_count": 101,
   "id": "a81ba8aa-362f-43d0-869e-767c196ac335",
   "metadata": {},
   "outputs": [
    {
     "data": {
      "text/plain": [
       "Text(0.5, 1.0, 'Zip Code (Location)')"
      ]
     },
     "execution_count": 101,
     "metadata": {},
     "output_type": "execute_result"
    },
    {
     "data": {
      "image/png": "[encoded data removed]",
      "text/plain": [
       "<Figure size 640x480 with 1 Axes>"
      ]
     },
     "metadata": {},
     "output_type": "display_data"
    }
   ],
   "source": [
    "#look at the first digit of the zip-code, refering to the broad region\n",
    "Location = list(users['zip_code'])\n",
    "Loc_encode = [int(x) if x.isdigit() else 100009 for x in Location] \n",
    "                \n",
    "#Location = [int(x) for x in Location]\n",
    "bins = [0,10000,20000,30000,40000,50000,60000, 70000, 80000, 90000, 100000, 110000]\n",
    "xticks_positions =[5000,15000,25000,35000,45000,55000,65000, 75000, 85000, 95000, 105000]\n",
    "xticks_labels = ['0', '1', '2', '3', '4', '5', '6', '7', '8','9','Canada :)']\n",
    "plt.hist(Loc_encode, bins = bins,color = 'skyblue',edgecolor='white', linewidth=1.5)\n",
    "\n",
    "plt.xticks(xticks_positions, xticks_labels, rotation=45, ha='right', fontsize=10) \n",
    "plt.title('Zip Code (Location)')"
   ]
  },
  {
   "cell_type": "markdown",
   "id": "f595895e-943b-4e4c-8e19-b4f93fedff58",
   "metadata": {},
   "source": [
    "0 = Connecticut (CT), Massachusetts (MA), Maine (ME), New Hampshire (NH), New Jersey (NJ), Puerto Rico (PR), Rhode Island (RI), Vermont (VT), Virgin Islands (VI), APO Europe (AE), FPO Europe (AE)  <br>\n",
    "\n",
    "1 = Delaware (DE), New York (NY), Pennsylvania (PA)  <br>\n",
    "\n",
    "2 = District of Columbia (DC), Maryland (MD), North Carolina (NC), South Carolina (SC), Virginia (VA), West Virginia (WV)  <br>\n",
    "\n",
    "3 = Alabama (AL), Florida (FL), Georgia (GA), Mississippi (MS), Tennessee (TN), APO Americas (AA), FPO Americas (AA)  <br>\n",
    "\n",
    "4 = Indiana (IN), Kentucky (KY), Michigan (MI), Ohio (OH)  <br>\n",
    "\n",
    "5 = Iowa (IA), Minnesota (MN), Montana (MT), North Dakota (ND), South Dakota (SD), Wisconsin (WI) <br>\n",
    "\n",
    "6 = Illinois (IL), Kansas (KS), Missouri (MO), Nebraska (NE)  <br>\n",
    "\n",
    "7 = Arkansas (AR), Louisiana (LA), Oklahoma (OK), Texas (TX)  <br>\n",
    "\n",
    "8 = Arizona (AZ), Colorado (CO), Idaho (ID), New Mexico (NM), Nevada (NV), Utah (UT), Wyoming (WY)  <br>\n",
    "\n",
    "9 = Alaska (AK), American Samoa (AS), California (CA), Guam (GU), Hawaii (HI), Marshall Islands (MH), Federated States of Micronesia (FM), Northern Mariana Islands (MP), Oregon (OR), Palau (PW), Washington (WA), APO Pacific (AP), FPO Pacific (AP)  <br>\n",
    "\n",
    "Thanks California for the data. It's bad to group Canadians together I know some of you are from Quebeca.ific (AP)"
   ]
  },
  {
   "cell_type": "markdown",
   "id": "8597241f-784a-41be-913e-a758421ccd28",
   "metadata": {},
   "source": [
    "-----------------------------------------------------------------------------------------------------------"
   ]
  },
  {
   "cell_type": "code",
   "execution_count": null,
   "id": "ba2e1427-476d-424d-bc09-84d4b7600b0b",
   "metadata": {},
   "outputs": [],
   "source": [
    "# Create Bigger Table for Analysis."
   ]
  },
  {
   "cell_type": "code",
   "execution_count": null,
   "id": "6e656eb9-95ae-44b5-ab09-98c09016597f",
   "metadata": {},
   "outputs": [],
   "source": []
  },
  {
   "cell_type": "code",
   "execution_count": null,
   "id": "33e33db2-922d-4bf3-b206-8d3a163f2dc6",
   "metadata": {},
   "outputs": [],
   "source": []
  },
  {
   "cell_type": "code",
   "execution_count": null,
   "id": "516b35a8-bb2e-4639-b324-e31748eb006f",
   "metadata": {},
   "outputs": [],
   "source": []
  },
  {
   "cell_type": "code",
   "execution_count": null,
   "id": "cd6aae37-fd00-42d4-afe9-e76d67e557f0",
   "metadata": {},
   "outputs": [],
   "source": []
  },
  {
   "cell_type": "markdown",
   "id": "8370acb1-a57c-4766-9a7a-e1b70a766eb5",
   "metadata": {},
   "source": [
    "Potentially useful variables by intuition:\n",
    "\n",
    "Scheme 1\n",
    "*Action space*\n",
    "Each movie vector/id, which should include/be linked to：\n",
    "1. The titles of the movies: the similarity can be used as a criteria for recommendation\n",
    "2. Year, title, genre, and tags, and average rating of the movie can help.\n",
    "\n",
    "*Observations*\n",
    "1. An user's average rating (related to the genre or not)\n",
    "2. Some generization of the users' preference. (year, title, tags, average rating)\n",
    "\n",
    "Reward = the actual rating of the user.\n",
    "   "
   ]
  },
  {
   "cell_type": "code",
   "execution_count": null,
   "id": "4d6f6862-27e9-4c49-80ce-322bb4d5365a",
   "metadata": {},
   "outputs": [],
   "source": []
  },
  {
   "cell_type": "markdown",
   "id": "5cc1f402-05ed-4f1e-b9de-9f1324dc767e",
   "metadata": {},
   "source": [
    "----------------------------------First explore the possible genres---------------------------------------"
   ]
  },
  {
   "cell_type": "code",
   "execution_count": null,
   "id": "4642dc03-0bbd-458b-b762-d961ee03f87e",
   "metadata": {},
   "outputs": [],
   "source": [
    "def genre_list(row):\n",
    "    return row.split('|')"
   ]
  },
  {
   "cell_type": "code",
   "execution_count": null,
   "id": "60c790e3-66da-4c68-b959-caf43788c4e3",
   "metadata": {},
   "outputs": [],
   "source": [
    "genre = pd.DataFrame(movies['genres']).applymap(genre_list)"
   ]
  },
  {
   "cell_type": "code",
   "execution_count": null,
   "id": "c512f045-d61e-408e-988b-9ae4bde247a8",
   "metadata": {},
   "outputs": [],
   "source": [
    "genre"
   ]
  },
  {
   "cell_type": "code",
   "execution_count": null,
   "id": "12319899-8135-4f4a-a936-882d45863acb",
   "metadata": {},
   "outputs": [],
   "source": [
    "biglist = list(genre['genres'])\n",
    "union = []\n",
    "for l in biglist:\n",
    "    union += l\n",
    "union = set(union)"
   ]
  },
  {
   "cell_type": "code",
   "execution_count": null,
   "id": "7d61b930-3b6d-4c80-a1fc-25b2d1006a57",
   "metadata": {},
   "outputs": [],
   "source": [
    "# The list of possible genres, not a lot, good news. Can have a graph of them.\n",
    "union"
   ]
  },
  {
   "cell_type": "markdown",
   "id": "90f95ba7-3dc7-475b-9f59-e64555b4a23d",
   "metadata": {},
   "source": [
    "Suggested state expression for genre: MultiDiscrete([2]*19) [ 0 0 0 0 0 ....] for no genre label\n"
   ]
  },
  {
   "cell_type": "markdown",
   "id": "db000e98-f085-4413-a07c-1e52b0ce4a96",
   "metadata": {},
   "source": [
    "-----------------------------Next: the tags------------------------------\n",
    "What someone is saying about the film. Can be understood as one sentense film criticism\n",
    "Can be used for 1. sentiment analysis (may overlap with rating) 2. keyword extraction."
   ]
  },
  {
   "cell_type": "code",
   "execution_count": null,
   "id": "e1b32ef4-9a13-4fa1-bfec-e92f0961cfd1",
   "metadata": {},
   "outputs": [],
   "source": [
    "tags_list = list(tags['tag'])"
   ]
  },
  {
   "cell_type": "code",
   "execution_count": null,
   "id": "9e4649b9-3634-40d9-8c39-75fbbefbb91a",
   "metadata": {},
   "outputs": [],
   "source": [
    "set(tags_list)"
   ]
  },
  {
   "cell_type": "code",
   "execution_count": null,
   "id": "6c1c0d0a-e7c0-48ed-820c-58f5ff8e222e",
   "metadata": {},
   "outputs": [],
   "source": [
    "len(tags_list)"
   ]
  },
  {
   "cell_type": "code",
   "execution_count": null,
   "id": "a444402d-f21e-491d-9508-703a107c7e52",
   "metadata": {},
   "outputs": [],
   "source": [
    "len(set(tags_list)) #man this is still ALOT"
   ]
  },
  {
   "cell_type": "markdown",
   "id": "4d05a7a7-e8c1-46bb-8d86-86122b5ac10a",
   "metadata": {},
   "source": [
    "hat we potentially need in our model structure: \n",
    "something that can relate rating to subcategories\n",
    "something that can relate user to keywords and subcategories\n"
   ]
  },
  {
   "cell_type": "code",
   "execution_count": null,
   "id": "38859e4e-caff-4cd8-9cc9-1baf16143313",
   "metadata": {},
   "outputs": [],
   "source": [
    "c = pd.DataFrame(ratings.groupby('movieId').size()).sort_values(by=0, ascending=False)"
   ]
  },
  {
   "cell_type": "code",
   "execution_count": null,
   "id": "ed8dd0d5-4628-488e-83f4-d985883f7114",
   "metadata": {},
   "outputs": [],
   "source": [
    "c"
   ]
  },
  {
   "cell_type": "code",
   "execution_count": null,
   "id": "ae01f987-b1e3-4d86-a9ee-5727802ea367",
   "metadata": {},
   "outputs": [],
   "source": [
    "import matplotlib.pyplot as plt"
   ]
  },
  {
   "cell_type": "code",
   "execution_count": null,
   "id": "6c68fa50-2f61-40f9-b834-9ff1c9e2bc33",
   "metadata": {},
   "outputs": [],
   "source": [
    "id = list(c.index)"
   ]
  },
  {
   "cell_type": "code",
   "execution_count": null,
   "id": "9d9173e3-cd15-4058-a07c-9210f6c18733",
   "metadata": {},
   "outputs": [],
   "source": [
    "list(c[0])"
   ]
  },
  {
   "cell_type": "code",
   "execution_count": null,
   "id": "74692820-b5d6-4bcf-9e99-8c374d47253a",
   "metadata": {},
   "outputs": [],
   "source": [
    "plt.bar([i for i in range(1,2001)],list(c[0])[:2000])"
   ]
  },
  {
   "cell_type": "code",
   "execution_count": null,
   "id": "50ff9a18-89bf-4f7d-afa7-64b7bba412b7",
   "metadata": {},
   "outputs": [],
   "source": [
    "c[c[0]>100]"
   ]
  },
  {
   "cell_type": "code",
   "execution_count": null,
   "id": "29c85363-2e8d-4f2a-9921-e41f385e0f06",
   "metadata": {},
   "outputs": [],
   "source": [
    "c[c[0]>50] #let 50 be the threshod."
   ]
  },
  {
   "cell_type": "code",
   "execution_count": null,
   "id": "b5449f70-0a28-462a-ab38-5abd9e36c670",
   "metadata": {},
   "outputs": [],
   "source": []
  }
 ],
 "metadata": {
  "kernelspec": {
   "display_name": "Python 3 (ipykernel)",
   "language": "python",
   "name": "python3"
  },
  "language_info": {
   "codemirror_mode": {
    "name": "ipython",
    "version": 3
   },
   "file_extension": ".py",
   "mimetype": "text/x-python",
   "name": "python",
   "nbconvert_exporter": "python",
   "pygments_lexer": "ipython3",
   "version": "3.9.19"
  }
 },
 "nbformat": 4,
 "nbformat_minor": 5
}
