{
 "cells": [
  {
   "cell_type": "markdown",
   "id": "c904b941-b8a6-4c08-a971-52b87b9bf2a6",
   "metadata": {},
   "source": [
    "# "
   ]
  },
  {
   "cell_type": "code",
   "execution_count": 1,
   "id": "b00d27bd-3296-4ac6-b8b5-2609ef47c36e",
   "metadata": {},
   "outputs": [],
   "source": [
    "import numpy as np\n",
    "import pandas as pd\n",
    "\n"
   ]
  },
  {
   "cell_type": "markdown",
   "id": "f595895e-943b-4e4c-8e19-b4f93fedff58",
   "metadata": {},
   "source": [
    "This Notebook demonstrates how to use our big dataset class"
   ]
  },
  {
   "cell_type": "markdown",
   "id": "8597241f-784a-41be-913e-a758421ccd28",
   "metadata": {},
   "source": [
    "-----------------------------------------------------------------------------------------------------------"
   ]
  },
  {
   "cell_type": "code",
   "execution_count": 2,
   "id": "8a09b507-34c5-464c-8a8f-493b14f15817",
   "metadata": {},
   "outputs": [],
   "source": [
    "#Final big-ass table after the join...."
   ]
  },
  {
   "cell_type": "code",
   "execution_count": 31,
   "id": "6e656eb9-95ae-44b5-ab09-98c09016597f",
   "metadata": {},
   "outputs": [],
   "source": [
    "from MovieLens import Movie_100K"
   ]
  },
  {
   "cell_type": "code",
   "execution_count": 32,
   "id": "33e33db2-922d-4bf3-b206-8d3a163f2dc6",
   "metadata": {},
   "outputs": [],
   "source": [
    "dataset = Movie_100K()"
   ]
  },
  {
   "cell_type": "code",
   "execution_count": 33,
   "id": "516b35a8-bb2e-4639-b324-e31748eb006f",
   "metadata": {},
   "outputs": [
    {
     "data": {
      "text/plain": [
       "{'title': {1000: 'Dead Man Walking (1995)',\n",
       "  1001: 'Seven (Se7en) (1995)',\n",
       "  1002: 'Usual Suspects, The (1995)'},\n",
       " 'date': {1000: array([1.        , 0.5       , 0.8660254 , 0.5       , 0.97952994]),\n",
       "  1001: array([1.        , 0.5       , 0.8660254 , 0.5       , 0.97952994]),\n",
       "  1002: array([ 1.        , -0.8660254 , -0.5       ,  0.8660254 , -0.95413926])},\n",
       " 'genre': {1000: '[0 0 0 0 0 0 0 0 1 0 0 0 0 0 0 0 0 0 0]',\n",
       "  1001: '[0 0 0 0 0 0 1 0 0 0 0 0 0 0 0 0 1 0 0]',\n",
       "  1002: '[0 0 0 0 0 0 1 0 0 0 0 0 0 0 0 0 1 0 0]'},\n",
       " 'user_id': {1000: 109, 1001: 109, 1002: 109},\n",
       " 'item_id': {1000: 9, 1001: 11, 1002: 12},\n",
       " 'rating': {1000: 3, 1001: 4, 1002: 4},\n",
       " 'timestamp': {1000: 880564607, 1001: 880572786, 1002: 880577542},\n",
       " 'age': {1000: 29, 1001: 29, 1002: 29},\n",
       " 'gender': {1000: 1, 1001: 1, 1002: 1},\n",
       " 'occupation': {1000: array([0., 0., 0., 0., 0., 0., 0., 0., 0., 0., 0., 0., 0., 0., 0., 0., 0.,\n",
       "         0., 0., 0.]),\n",
       "  1001: array([0., 0., 0., 0., 0., 0., 0., 0., 0., 0., 0., 0., 0., 0., 0., 0., 0.,\n",
       "         0., 0., 0.]),\n",
       "  1002: array([0., 0., 0., 0., 0., 0., 0., 0., 0., 0., 0., 0., 0., 0., 0., 0., 0.,\n",
       "         0., 0., 0.])},\n",
       " 'zip_code': {1000: '55423', 1001: '55423', 1002: '55423'}}"
      ]
     },
     "execution_count": 33,
     "metadata": {},
     "output_type": "execute_result"
    }
   ],
   "source": [
    "dataset[1000:1003]"
   ]
  },
  {
   "cell_type": "code",
   "execution_count": 34,
   "id": "455c00b0-c6df-41d1-b9ac-c8295e42a16e",
   "metadata": {},
   "outputs": [],
   "source": [
    "All_DataFrame = pd.DataFrame(dataset[:])"
   ]
  },
  {
   "cell_type": "code",
   "execution_count": 35,
   "id": "4ff0feac-d4e9-4479-894f-aa1c777f7827",
   "metadata": {},
   "outputs": [],
   "source": [
    "# work with the title\n",
    "Title_frame = pd.DataFrame(All_DataFrame['title'])\n",
    "def trim(row):\n",
    "    row['title'] = row['title'][0:len(row)-7]#excluding the year in the title\n",
    "    return row\n",
    "Title_frame = Title_frame.apply(trim, axis = 1)"
   ]
  },
  {
   "cell_type": "code",
   "execution_count": 36,
   "id": "4aaaad85-ec04-4ace-b5ac-4d218b5477e3",
   "metadata": {},
   "outputs": [
    {
     "data": {
      "text/html": [
       "<div>\n",
       "<style scoped>\n",
       "    .dataframe tbody tr th:only-of-type {\n",
       "        vertical-align: middle;\n",
       "    }\n",
       "\n",
       "    .dataframe tbody tr th {\n",
       "        vertical-align: top;\n",
       "    }\n",
       "\n",
       "    .dataframe thead th {\n",
       "        text-align: right;\n",
       "    }\n",
       "</style>\n",
       "<table border=\"1\" class=\"dataframe\">\n",
       "  <thead>\n",
       "    <tr style=\"text-align: right;\">\n",
       "      <th></th>\n",
       "      <th>title</th>\n",
       "    </tr>\n",
       "  </thead>\n",
       "  <tbody>\n",
       "    <tr>\n",
       "      <th>0</th>\n",
       "      <td>Toy Story</td>\n",
       "    </tr>\n",
       "    <tr>\n",
       "      <th>1</th>\n",
       "      <td>Get Shorty</td>\n",
       "    </tr>\n",
       "    <tr>\n",
       "      <th>2</th>\n",
       "      <td>Copycat</td>\n",
       "    </tr>\n",
       "    <tr>\n",
       "      <th>3</th>\n",
       "      <td>Twelve Monkeys</td>\n",
       "    </tr>\n",
       "    <tr>\n",
       "      <th>4</th>\n",
       "      <td>Babe</td>\n",
       "    </tr>\n",
       "    <tr>\n",
       "      <th>...</th>\n",
       "      <td>...</td>\n",
       "    </tr>\n",
       "    <tr>\n",
       "      <th>99995</th>\n",
       "      <td>Saint, The</td>\n",
       "    </tr>\n",
       "    <tr>\n",
       "      <th>99996</th>\n",
       "      <td>Tomorrow Never Dies</td>\n",
       "    </tr>\n",
       "    <tr>\n",
       "      <th>99997</th>\n",
       "      <td>Peacemaker, The</td>\n",
       "    </tr>\n",
       "    <tr>\n",
       "      <th>99998</th>\n",
       "      <td>Home Alone 3</td>\n",
       "    </tr>\n",
       "    <tr>\n",
       "      <th>99999</th>\n",
       "      <td>Mr. Magoo</td>\n",
       "    </tr>\n",
       "  </tbody>\n",
       "</table>\n",
       "<p>100000 rows × 1 columns</p>\n",
       "</div>"
      ],
      "text/plain": [
       "                      title\n",
       "0                Toy Story \n",
       "1               Get Shorty \n",
       "2                  Copycat \n",
       "3           Twelve Monkeys \n",
       "4                     Babe \n",
       "...                     ...\n",
       "99995           Saint, The \n",
       "99996  Tomorrow Never Dies \n",
       "99997      Peacemaker, The \n",
       "99998         Home Alone 3 \n",
       "99999            Mr. Magoo \n",
       "\n",
       "[100000 rows x 1 columns]"
      ]
     },
     "execution_count": 36,
     "metadata": {},
     "output_type": "execute_result"
    }
   ],
   "source": [
    "Title_frame"
   ]
  },
  {
   "cell_type": "code",
   "execution_count": 37,
   "id": "6a193b5e-78f8-4bf8-9173-a5dfe8f4d5c5",
   "metadata": {},
   "outputs": [],
   "source": [
    "# stopwords + encode.\n",
    "import spacy\n",
    "NLP = spacy.load(\"en_core_web_sm\")\n",
    "def lemmatize_and_stop(row):\n",
    "    \n",
    "    doc = NLP(row['title'])\n",
    "    lemmatized_words = [token.lemma_ for token in doc]\n",
    "    row['title'] = ' '.join(lemmatized_words)\n",
    "    return row\n",
    "\n",
    "    "
   ]
  },
  {
   "cell_type": "code",
   "execution_count": 38,
   "id": "0dbc5a5a-c012-4dcf-98e9-3567bc5bd308",
   "metadata": {},
   "outputs": [],
   "source": [
    "Title_frame = Title_frame.apply(lemmatize_and_stop, axis = 1)\n"
   ]
  },
  {
   "cell_type": "code",
   "execution_count": 39,
   "id": "274449f8-f9b2-4694-9d2a-8b3f63297e3b",
   "metadata": {},
   "outputs": [],
   "source": [
    "import re"
   ]
  },
  {
   "cell_type": "code",
   "execution_count": 40,
   "id": "c91c2e0e-aa27-4c11-9ce1-4685513661ee",
   "metadata": {},
   "outputs": [
    {
     "data": {
      "text/html": [
       "<div>\n",
       "<style scoped>\n",
       "    .dataframe tbody tr th:only-of-type {\n",
       "        vertical-align: middle;\n",
       "    }\n",
       "\n",
       "    .dataframe tbody tr th {\n",
       "        vertical-align: top;\n",
       "    }\n",
       "\n",
       "    .dataframe thead th {\n",
       "        text-align: right;\n",
       "    }\n",
       "</style>\n",
       "<table border=\"1\" class=\"dataframe\">\n",
       "  <thead>\n",
       "    <tr style=\"text-align: right;\">\n",
       "      <th></th>\n",
       "      <th>title</th>\n",
       "    </tr>\n",
       "  </thead>\n",
       "  <tbody>\n",
       "    <tr>\n",
       "      <th>0</th>\n",
       "      <td>Toy Story</td>\n",
       "    </tr>\n",
       "    <tr>\n",
       "      <th>1</th>\n",
       "      <td>get Shorty</td>\n",
       "    </tr>\n",
       "    <tr>\n",
       "      <th>2</th>\n",
       "      <td>copycat</td>\n",
       "    </tr>\n",
       "    <tr>\n",
       "      <th>3</th>\n",
       "      <td>twelve monkey</td>\n",
       "    </tr>\n",
       "    <tr>\n",
       "      <th>4</th>\n",
       "      <td>babe</td>\n",
       "    </tr>\n",
       "    <tr>\n",
       "      <th>...</th>\n",
       "      <td>...</td>\n",
       "    </tr>\n",
       "    <tr>\n",
       "      <th>99995</th>\n",
       "      <td>Saint , the</td>\n",
       "    </tr>\n",
       "    <tr>\n",
       "      <th>99996</th>\n",
       "      <td>tomorrow never die</td>\n",
       "    </tr>\n",
       "    <tr>\n",
       "      <th>99997</th>\n",
       "      <td>Peacemaker , the</td>\n",
       "    </tr>\n",
       "    <tr>\n",
       "      <th>99998</th>\n",
       "      <td>home alone 3</td>\n",
       "    </tr>\n",
       "    <tr>\n",
       "      <th>99999</th>\n",
       "      <td>Mr. Magoo</td>\n",
       "    </tr>\n",
       "  </tbody>\n",
       "</table>\n",
       "<p>100000 rows × 1 columns</p>\n",
       "</div>"
      ],
      "text/plain": [
       "                    title\n",
       "0               Toy Story\n",
       "1              get Shorty\n",
       "2                 copycat\n",
       "3           twelve monkey\n",
       "4                    babe\n",
       "...                   ...\n",
       "99995         Saint , the\n",
       "99996  tomorrow never die\n",
       "99997    Peacemaker , the\n",
       "99998        home alone 3\n",
       "99999           Mr. Magoo\n",
       "\n",
       "[100000 rows x 1 columns]"
      ]
     },
     "execution_count": 40,
     "metadata": {},
     "output_type": "execute_result"
    }
   ],
   "source": [
    "Title_frame"
   ]
  },
  {
   "cell_type": "code",
   "execution_count": 45,
   "id": "e2fb55f3-7b4e-4d0a-a350-a0d3d1059862",
   "metadata": {},
   "outputs": [],
   "source": [
    "def Format_lower(row):\n",
    "    #print(row[1])\n",
    "    string = re.sub(\"r'[^a-zA-Z \\s]+$\", '', row['title']).lower() #re.sub(r'[^a-zA-Z\\s]', '', text)\n",
    "    #string = re.sub(r'[,\\.\\:\\(\\)\\;\\!\\/\\-]', '', row['title'])\n",
    "    #string = re.sub(r'[&]', 'and', string )\n",
    "    row['title'] = string\n",
    "    return row\n",
    "    "
   ]
  },
  {
   "cell_type": "code",
   "execution_count": 46,
   "id": "4c77975b-3e4e-4b88-86f5-7ec13b7f671c",
   "metadata": {},
   "outputs": [],
   "source": [
    "Title_frame2 = Title_frame2.apply(Format_lower, axis = 1)"
   ]
  },
  {
   "cell_type": "code",
   "execution_count": 47,
   "id": "b705a415-3085-455d-b76e-40d99939f673",
   "metadata": {},
   "outputs": [
    {
     "data": {
      "text/html": [
       "<div>\n",
       "<style scoped>\n",
       "    .dataframe tbody tr th:only-of-type {\n",
       "        vertical-align: middle;\n",
       "    }\n",
       "\n",
       "    .dataframe tbody tr th {\n",
       "        vertical-align: top;\n",
       "    }\n",
       "\n",
       "    .dataframe thead th {\n",
       "        text-align: right;\n",
       "    }\n",
       "</style>\n",
       "<table border=\"1\" class=\"dataframe\">\n",
       "  <thead>\n",
       "    <tr style=\"text-align: right;\">\n",
       "      <th></th>\n",
       "      <th>title</th>\n",
       "    </tr>\n",
       "  </thead>\n",
       "  <tbody>\n",
       "    <tr>\n",
       "      <th>0</th>\n",
       "      <td>toy story</td>\n",
       "    </tr>\n",
       "    <tr>\n",
       "      <th>1</th>\n",
       "      <td>get shorty</td>\n",
       "    </tr>\n",
       "    <tr>\n",
       "      <th>2</th>\n",
       "      <td>copycat</td>\n",
       "    </tr>\n",
       "    <tr>\n",
       "      <th>3</th>\n",
       "      <td>twelve monkey</td>\n",
       "    </tr>\n",
       "    <tr>\n",
       "      <th>4</th>\n",
       "      <td>babe</td>\n",
       "    </tr>\n",
       "    <tr>\n",
       "      <th>...</th>\n",
       "      <td>...</td>\n",
       "    </tr>\n",
       "    <tr>\n",
       "      <th>99995</th>\n",
       "      <td>saint  the</td>\n",
       "    </tr>\n",
       "    <tr>\n",
       "      <th>99996</th>\n",
       "      <td>tomorrow never die</td>\n",
       "    </tr>\n",
       "    <tr>\n",
       "      <th>99997</th>\n",
       "      <td>peacemaker  the</td>\n",
       "    </tr>\n",
       "    <tr>\n",
       "      <th>99998</th>\n",
       "      <td>home alone 3</td>\n",
       "    </tr>\n",
       "    <tr>\n",
       "      <th>99999</th>\n",
       "      <td>mr magoo</td>\n",
       "    </tr>\n",
       "  </tbody>\n",
       "</table>\n",
       "<p>100000 rows × 1 columns</p>\n",
       "</div>"
      ],
      "text/plain": [
       "                    title\n",
       "0               toy story\n",
       "1              get shorty\n",
       "2                 copycat\n",
       "3           twelve monkey\n",
       "4                    babe\n",
       "...                   ...\n",
       "99995          saint  the\n",
       "99996  tomorrow never die\n",
       "99997     peacemaker  the\n",
       "99998        home alone 3\n",
       "99999            mr magoo\n",
       "\n",
       "[100000 rows x 1 columns]"
      ]
     },
     "execution_count": 47,
     "metadata": {},
     "output_type": "execute_result"
    }
   ],
   "source": [
    "Title_frame2"
   ]
  },
  {
   "cell_type": "code",
   "execution_count": 48,
   "id": "d71dac8f-ad98-473f-bd89-1bf979711eda",
   "metadata": {},
   "outputs": [],
   "source": [
    "Title_frame2['title'].to_csv('/home/yiyangl/PY_PROJECTS/Datasets/ml-100k/processed_title.csv')"
   ]
  },
  {
   "cell_type": "markdown",
   "id": "8370acb1-a57c-4766-9a7a-e1b70a766eb5",
   "metadata": {},
   "source": [
    "Potentially useful variables by intuition:\n",
    "\n",
    "Scheme 1\n",
    "*Action space*\n",
    "Each movie vector/id, which should include/be linked to：\n",
    "1. The titles of the movies: the similarity can be used as a criteria for recommendation\n",
    "2. Year, title, genre, and tags, and average rating of the movie can help.\n",
    "\n",
    "*Observations*\n",
    "1. An user's average rating (related to the genre or not)\n",
    "2. Some generization of the users' preference. (year, title, tags, average rating)\n",
    "\n",
    "Reward = the actual rating of the user.\n",
    "   "
   ]
  },
  {
   "cell_type": "code",
   "execution_count": 2,
   "id": "8d57f74e-619d-4437-ad5c-4b683e508def",
   "metadata": {},
   "outputs": [],
   "source": [
    "# TO_INPUTID. TO_WORD_EMBEDDING"
   ]
  },
  {
   "cell_type": "code",
   "execution_count": 4,
   "id": "1509061f-8099-4a1e-a7b6-56f2983c6b09",
   "metadata": {},
   "outputs": [],
   "source": [
    "processed_text = list(pd.read_csv('/home/yiyangl/PY_PROJECTS/Datasets/ml-100k/processed_title.csv')['title'])"
   ]
  },
  {
   "cell_type": "code",
   "execution_count": 5,
   "id": "4d6f6862-27e9-4c49-80ce-322bb4d5365a",
   "metadata": {},
   "outputs": [],
   "source": [
    "from transformers import AutoTokenizer, MobileBertForMaskedLM\n",
    "import torch"
   ]
  },
  {
   "cell_type": "code",
   "execution_count": 6,
   "id": "37bb5131-c199-4882-842a-3c2ecd312dd9",
   "metadata": {},
   "outputs": [],
   "source": [
    "processed_text = [text if text else 'None' for text in processed_text]"
   ]
  },
  {
   "cell_type": "code",
   "execution_count": 7,
   "id": "cdcb619b-4468-4f28-9852-ea026e96abde",
   "metadata": {},
   "outputs": [
    {
     "data": {
      "text/plain": [
       "['toy story',\n",
       " 'get shorty',\n",
       " 'copycat',\n",
       " 'twelve monkey',\n",
       " 'babe',\n",
       " 'dead man walk',\n",
       " 'seven  se7en ',\n",
       " 'usual suspects  the',\n",
       " \"mr holland 's opus\",\n",
       " 'from dusk till dawn']"
      ]
     },
     "execution_count": 7,
     "metadata": {},
     "output_type": "execute_result"
    }
   ],
   "source": [
    "processed_text[:10]"
   ]
  },
  {
   "cell_type": "code",
   "execution_count": 8,
   "id": "313779c6-7785-451f-874a-fe8f2b873dbc",
   "metadata": {},
   "outputs": [],
   "source": [
    "Tokenizer = AutoTokenizer.from_pretrained('google/mobilebert-uncased')\n",
    "text_batch = [Tokenizer.encode_plus(\n",
    "            text,\n",
    "            add_special_tokens=True,  # Add [CLS] and [SEP]\n",
    "            max_length=10,\n",
    "            padding='max_length',\n",
    "            truncation=True,  # Truncate to max_length\n",
    "            return_attention_mask=True,  # Return attention masks\n",
    "            return_tensors='pt'  # Return PyTorch tensors\n",
    "            ) if text is not None else None for text in processed_text]"
   ]
  },
  {
   "cell_type": "code",
   "execution_count": 9,
   "id": "e9742159-e34f-4216-8ebb-79a915d9e963",
   "metadata": {},
   "outputs": [],
   "source": [
    "id_list = [x['input_ids'].squeeze() for x in text_batch]\n",
    "att_list = [x['attention_mask'].squeeze() for x in text_batch]\n",
    "input_ids = torch.stack(id_list, dim = 0)\n",
    "attention_mask = torch.stack(att_list, dim = 0)"
   ]
  },
  {
   "cell_type": "code",
   "execution_count": 10,
   "id": "b4956eea-72bd-403a-a941-ac19f8771f4e",
   "metadata": {},
   "outputs": [],
   "source": [
    "torch.save(input_ids,'/home/yiyangl/PY_PROJECTS/Datasets/ml-100k/input_ids.pt')\n",
    "torch.save(attention_mask,'/home/yiyangl/PY_PROJECTS/Datasets/ml-100k/att.pt')"
   ]
  },
  {
   "cell_type": "code",
   "execution_count": 11,
   "id": "7fc955e8-a997-4dd2-816b-763226d7c879",
   "metadata": {},
   "outputs": [],
   "source": [
    "import torch\n",
    "from transformers import MobileBertModel"
   ]
  },
  {
   "cell_type": "code",
   "execution_count": 12,
   "id": "29d864a4-a67f-4162-8419-2bd15135a312",
   "metadata": {},
   "outputs": [],
   "source": [
    "text_encoder = MobileBertModel.from_pretrained('google/mobilebert-uncased')"
   ]
  },
  {
   "cell_type": "code",
   "execution_count": 13,
   "id": "32e5011a-233a-4d1f-965b-baf9a18664f7",
   "metadata": {},
   "outputs": [],
   "source": [
    "batchsize = 1\n",
    "textemblist = []\n",
    "for i in range(90000,90000+int(10000/batchsize)):\n",
    "    out =text_encoder(input_ids=input_ids[i*batchsize:(i+1)*batchsize,:], attention_mask=attention_mask[i*batchsize:(i+1)*batchsize,:])\n",
    "    out = out.last_hidden_state\n",
    "    textemblist.append(out[:,0,:])\n",
    "    if i%5000 ==4999:\n",
    "        encoded_text = torch.stack(textemblist, dim=0)\n",
    "        torch.save(encoded_text.detach(), '/home/yiyangl/PY_PROJECTS/Datasets/ml-100k/encoded_text'+str(i+1)+'.pt')"
   ]
  },
  {
   "cell_type": "code",
   "execution_count": 14,
   "id": "91350f1f",
   "metadata": {},
   "outputs": [],
   "source": [
    "torch_list = []\n",
    "for i in range(10):\n",
    "    \n",
    "    filename =  '/home/yiyangl/PY_PROJECTS/Datasets/ml-100k/encoded_text'+str(i+1)+'0000.pt'\n",
    "    temp = torch.load(filename)\n",
    "    torch_list.append(temp)"
   ]
  },
  {
   "cell_type": "code",
   "execution_count": 16,
   "id": "ef85e102-d013-4561-b3aa-b2888a7c2032",
   "metadata": {},
   "outputs": [],
   "source": [
    "encoded_text = torch.stack(torch_list, dim=0)\n",
    "torch.save(encoded_text, '/home/yiyangl/PY_PROJECTS/Datasets/ml-100k/encoded_text_all.pt')"
   ]
  },
  {
   "cell_type": "code",
   "execution_count": 17,
   "id": "8bfbc610",
   "metadata": {},
   "outputs": [
    {
     "name": "stderr",
     "output_type": "stream",
     "text": [
      "huggingface/tokenizers: The current process just got forked, after parallelism has already been used. Disabling parallelism to avoid deadlocks...\n",
      "To disable this warning, you can either:\n",
      "\t- Avoid using `tokenizers` before the fork if possible\n",
      "\t- Explicitly set the environment variable TOKENIZERS_PARALLELISM=(true | false)\n"
     ]
    }
   ],
   "source": [
    "import matplotlib.pyplot as plt\n",
    "from sklearn.decomposition import PCA\n"
   ]
  },
  {
   "cell_type": "code",
   "execution_count": null,
   "id": "a696ec64",
   "metadata": {},
   "outputs": [],
   "source": []
  },
  {
   "cell_type": "code",
   "execution_count": null,
   "id": "e8b46ea9",
   "metadata": {},
   "outputs": [],
   "source": [
    "encoded_text.shape"
   ]
  },
  {
   "cell_type": "markdown",
   "id": "5cc1f402-05ed-4f1e-b9de-9f1324dc767e",
   "metadata": {},
   "source": [
    "----------------------------------First explore the possible genres---------------------------------------"
   ]
  },
  {
   "cell_type": "code",
   "execution_count": 21,
   "id": "4b7c0225-c5ff-424c-9e98-745d2c005543",
   "metadata": {},
   "outputs": [],
   "source": [
    "one_to = torch.load( '/home/yiyangl/PY_PROJECTS/Datasets/ml-100k/encoded_text20000.pt')"
   ]
  },
  {
   "cell_type": "code",
   "execution_count": 22,
   "id": "b50882e7",
   "metadata": {},
   "outputs": [
    {
     "data": {
      "text/plain": [
       "torch.Size([10000, 1, 512])"
      ]
     },
     "execution_count": 22,
     "metadata": {},
     "output_type": "execute_result"
    }
   ],
   "source": [
    "one_to.shape"
   ]
  },
  {
   "cell_type": "code",
   "execution_count": 19,
   "id": "aa55f7a2",
   "metadata": {},
   "outputs": [],
   "source": [
    "torch.save(one_to[:10000,:,:].detach() , '/home/yiyangl/PY_PROJECTS/Datasets/ml-100k/encoded_text10000.pt' )"
   ]
  },
  {
   "cell_type": "markdown",
   "id": "db000e98-f085-4413-a07c-1e52b0ce4a96",
   "metadata": {},
   "source": [
    "-----------------------------Next: the tags------------------------------\n",
    "What someone is saying about the film. Can be understood as one sentense film criticism\n",
    "Can be used for 1. sentiment analysis (may overlap with rating) 2. keyword extraction."
   ]
  },
  {
   "cell_type": "markdown",
   "id": "4d05a7a7-e8c1-46bb-8d86-86122b5ac10a",
   "metadata": {},
   "source": [
    "hat we potentially need in our model structure: \n",
    "something that can relate rating to subcategories\n",
    "something that can relate user to keywords and subcategories\n"
   ]
  }
 ],
 "metadata": {
  "kernelspec": {
   "display_name": "conda-env",
   "language": "python",
   "name": "conda-env"
  },
  "language_info": {
   "codemirror_mode": {
    "name": "ipython",
    "version": 3
   },
   "file_extension": ".py",
   "mimetype": "text/x-python",
   "name": "python",
   "nbconvert_exporter": "python",
   "pygments_lexer": "ipython3",
   "version": "3.9.19"
  }
 },
 "nbformat": 4,
 "nbformat_minor": 5
}
