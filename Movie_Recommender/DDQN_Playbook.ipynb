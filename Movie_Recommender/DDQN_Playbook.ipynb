{
  "cells": [
    {
      "cell_type": "code",
      "source": [
        "from google.colab import drive\n",
        "drive.mount('/content/drive', force_remount=True)"
      ],
      "metadata": {
        "id": "cJ7z6B42a9Mo",
        "outputId": "a73777dd-ce3b-40a7-d297-650e0f168e68",
        "colab": {
          "base_uri": "https://localhost:8080/"
        }
      },
      "execution_count": 1,
      "outputs": [
        {
          "output_type": "stream",
          "name": "stdout",
          "text": [
            "Mounted at /content/drive\n"
          ]
        }
      ]
    },
    {
      "cell_type": "code",
      "source": [
        "!pip install gymnasium"
      ],
      "metadata": {
        "id": "COJHGt-DZ_fk",
        "outputId": "6c555a42-85e1-4c93-cfc2-28ac7e596e02",
        "colab": {
          "base_uri": "https://localhost:8080/"
        }
      },
      "execution_count": 2,
      "outputs": [
        {
          "output_type": "stream",
          "name": "stdout",
          "text": [
            "Requirement already satisfied: gymnasium in /usr/local/lib/python3.10/dist-packages (0.29.1)\n",
            "Requirement already satisfied: numpy>=1.21.0 in /usr/local/lib/python3.10/dist-packages (from gymnasium) (1.26.4)\n",
            "Requirement already satisfied: cloudpickle>=1.2.0 in /usr/local/lib/python3.10/dist-packages (from gymnasium) (2.2.1)\n",
            "Requirement already satisfied: typing-extensions>=4.3.0 in /usr/local/lib/python3.10/dist-packages (from gymnasium) (4.12.2)\n",
            "Requirement already satisfied: farama-notifications>=0.0.1 in /usr/local/lib/python3.10/dist-packages (from gymnasium) (0.0.4)\n"
          ]
        }
      ]
    },
    {
      "cell_type": "code",
      "source": [
        "import sys\n",
        "sys.path.insert(0,'/content/drive/MyDrive/RL/Movie_Recommender/')"
      ],
      "metadata": {
        "id": "Br9CQ3F3ajGr"
      },
      "execution_count": 3,
      "outputs": []
    },
    {
      "cell_type": "code",
      "execution_count": 4,
      "metadata": {
        "scrolled": true,
        "id": "FaOFiu0MZRZy"
      },
      "outputs": [],
      "source": [
        "import collections\n",
        "import gymnasium as gym\n",
        "from gymnasium.spaces import Text, MultiDiscrete, Discrete, MultiBinary, Tuple\n"
      ]
    },
    {
      "cell_type": "code",
      "execution_count": 5,
      "metadata": {
        "id": "VkelKA4CZRZz"
      },
      "outputs": [],
      "source": [
        "import math\n",
        "import random as rnd\n",
        "import numpy as np\n",
        "\n",
        "from Reco_config import Config\n",
        "import torch\n",
        "import torch.nn as nn\n",
        "import torch.optim as optim\n",
        "import torch.nn.functional as F\n",
        "import torch.optim.lr_scheduler as lr_scheduler\n",
        "from torch.autograd import Variable\n",
        "from torch.utils.data import DataLoader, Subset,random_split\n",
        "from sklearn.model_selection import train_test_split\n",
        "from replay_memory import ReplayMemory_Prior, Transition\n",
        "import time\n",
        "import logging\n"
      ]
    },
    {
      "cell_type": "code",
      "execution_count": 6,
      "metadata": {
        "id": "nf267ZqmZRZz"
      },
      "outputs": [],
      "source": [
        "import matplotlib.pyplot as plt\n",
        "import seaborn as sns"
      ]
    },
    {
      "cell_type": "code",
      "execution_count": 7,
      "metadata": {
        "id": "eomVLTrYZRZ0"
      },
      "outputs": [],
      "source": [
        "from Recommender_envs import Reco_Env\n",
        "from Recommender_agents import Reco_Agent\n",
        "from MovieLens_4Colab import Movie_100K, Data2State\n",
        "\n"
      ]
    },
    {
      "cell_type": "code",
      "execution_count": 8,
      "metadata": {
        "colab": {
          "base_uri": "https://localhost:8080/"
        },
        "id": "jxQyGUuwZRZ1",
        "outputId": "3b7cfb33-21f7-4802-91b6-75b9a4c111b0"
      },
      "outputs": [
        {
          "output_type": "stream",
          "name": "stderr",
          "text": [
            "/content/drive/MyDrive/RL/Movie_Recommender/MovieLens_4Colab.py:107: FutureWarning: You are using `torch.load` with `weights_only=False` (the current default value), which uses the default pickle module implicitly. It is possible to construct malicious pickle data which will execute arbitrary code during unpickling (See https://github.com/pytorch/pytorch/blob/main/SECURITY.md#untrusted-models for more details). In a future release, the default value for `weights_only` will be flipped to `True`. This limits the functions that could be executed during unpickling. Arbitrary objects will no longer be allowed to be loaded via this mode unless they are explicitly allowlisted by the user via `torch.serialization.add_safe_globals`. We recommend you start setting `weights_only=True` for any use case where you don't have full control of the loaded file. Please open an issue on GitHub for any issues related to this experimental feature.\n",
            "  self.embedding = torch.load(self.path['embedding'])\n"
          ]
        }
      ],
      "source": [
        "dataset = Movie_100K(embedding = True)"
      ]
    },
    {
      "cell_type": "code",
      "execution_count": 9,
      "metadata": {
        "id": "poft_rQcZRZ1"
      },
      "outputs": [],
      "source": [
        "train_data, test_data = train_test_split(dataset, test_size = 0.2, random_state=42)"
      ]
    },
    {
      "cell_type": "code",
      "execution_count": 10,
      "metadata": {
        "colab": {
          "base_uri": "https://localhost:8080/"
        },
        "id": "hHJrg6l5ZRZ1",
        "outputId": "e02eef38-24e3-4fa9-d7ae-15bc9a2ec7a8"
      },
      "outputs": [
        {
          "output_type": "execute_result",
          "data": {
            "text/plain": [
              "80000"
            ]
          },
          "metadata": {},
          "execution_count": 10
        }
      ],
      "source": [
        "len(train_data)"
      ]
    },
    {
      "cell_type": "code",
      "execution_count": 11,
      "metadata": {
        "colab": {
          "base_uri": "https://localhost:8080/"
        },
        "id": "05dlymvzZRZ1",
        "outputId": "4a1a0dff-a4e9-4ce1-cdc1-f9205238ddcc"
      },
      "outputs": [
        {
          "output_type": "stream",
          "name": "stdout",
          "text": [
            "nums GPU: 0\n",
            "\n",
            " \t ----------- Model = Baseline Double DQN ------------\n",
            "\t Loading Policy Net ......\n",
            "\t *Total Params* =  8645\n",
            "\t *Trainable Params* =  8645\n",
            "\t Loading Target Net ......\n",
            "\n",
            " \t ----------- Model Loaded ------------\n"
          ]
        }
      ],
      "source": [
        "Agent = Reco_Agent(train_data, test_data)"
      ]
    },
    {
      "cell_type": "code",
      "source": [
        "Agent.load(filename = '/content/drive/MyDrive/RL/Movie100k.pt')"
      ],
      "metadata": {
        "id": "0UPXPHUPvtpx",
        "colab": {
          "base_uri": "https://localhost:8080/"
        },
        "outputId": "e960808e-3007-4eca-87f1-a4d3b0a8f27b"
      },
      "execution_count": 12,
      "outputs": [
        {
          "output_type": "stream",
          "name": "stderr",
          "text": [
            "/content/drive/MyDrive/RL/Movie_Recommender/Recommender_agents.py:319: FutureWarning: You are using `torch.load` with `weights_only=False` (the current default value), which uses the default pickle module implicitly. It is possible to construct malicious pickle data which will execute arbitrary code during unpickling (See https://github.com/pytorch/pytorch/blob/main/SECURITY.md#untrusted-models for more details). In a future release, the default value for `weights_only` will be flipped to `True`. This limits the functions that could be executed during unpickling. Arbitrary objects will no longer be allowed to be loaded via this mode unless they are explicitly allowlisted by the user via `torch.serialization.add_safe_globals`. We recommend you start setting `weights_only=True` for any use case where you don't have full control of the loaded file. Please open an issue on GitHub for any issues related to this experimental feature.\n",
            "  checkpoint = torch.load(filename, map_location=torch.device('cpu'))\n"
          ]
        }
      ]
    },
    {
      "cell_type": "code",
      "execution_count": 13,
      "metadata": {
        "id": "FLzinWKtZRZ1"
      },
      "outputs": [],
      "source": [
        "#Agent.train()\n"
      ]
    },
    {
      "cell_type": "code",
      "source": [
        "Agent.test()"
      ],
      "metadata": {
        "colab": {
          "base_uri": "https://localhost:8080/"
        },
        "id": "2vCGjPXVW1-L",
        "outputId": "a48f2da8-31c0-4707-dfe2-a23c9aa4066b"
      },
      "execution_count": 14,
      "outputs": [
        {
          "output_type": "stream",
          "name": "stdout",
          "text": [
            "Test run finished. The final testing loss is: 3.3894500732421875\n",
            "Total time for evaluation: 5.4584197998046875 seconds\n"
          ]
        }
      ]
    }
  ],
  "metadata": {
    "kernelspec": {
      "display_name": "Python 3",
      "name": "python3"
    },
    "language_info": {
      "name": "python"
    },
    "colab": {
      "provenance": [],
      "gpuType": "T4"
    },
    "accelerator": "GPU"
  },
  "nbformat": 4,
  "nbformat_minor": 0
}