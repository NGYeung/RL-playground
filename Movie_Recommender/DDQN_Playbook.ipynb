{
 "cells": [
  {
   "cell_type": "code",
   "execution_count": 1,
   "metadata": {
    "scrolled": true
   },
   "outputs": [],
   "source": [
    "import collections\n",
    "import gymnasium as gym\n",
    "from gymnasium.spaces import Text, MultiDiscrete, Discrete, MultiBinary, Tuple\n"
   ]
  },
  {
   "cell_type": "code",
   "execution_count": 2,
   "metadata": {},
   "outputs": [],
   "source": [
    "import math\n",
    "import random as rnd\n",
    "import numpy as np\n",
    "\n",
    "from Reco_config import Config\n",
    "import torch\n",
    "import torch.nn as nn\n",
    "import torch.optim as optim\n",
    "import torch.nn.functional as F\n",
    "import torch.optim.lr_scheduler as lr_scheduler\n",
    "from torch.autograd import Variable\n",
    "from torch.utils.data import DataLoader, Subset,random_split\n",
    "from sklearn.model_selection import train_test_split\n",
    "from replay_memory import ReplayMemory_Prior, Transition\n",
    "import time\n",
    "import logging\n"
   ]
  },
  {
   "cell_type": "code",
   "execution_count": 3,
   "metadata": {},
   "outputs": [],
   "source": [
    "import matplotlib.pyplot as plt\n",
    "import seaborn as sns"
   ]
  },
  {
   "cell_type": "code",
   "execution_count": 4,
   "metadata": {},
   "outputs": [],
   "source": [
    "from Recommender_envs import Reco_Env\n",
    "from Recommender_agents import Reco_Agent\n",
    "from MovieLens import Movie_100K, Data2State\n",
    "\n"
   ]
  },
  {
   "cell_type": "code",
   "execution_count": 5,
   "metadata": {},
   "outputs": [],
   "source": [
    "dataset = Movie_100K(embedding = True)"
   ]
  },
  {
   "cell_type": "code",
   "execution_count": 6,
   "metadata": {},
   "outputs": [],
   "source": [
    "train_data, test_data = train_test_split(dataset, test_size = 0.2, random_state=42)"
   ]
  },
  {
   "cell_type": "code",
   "execution_count": 7,
   "metadata": {},
   "outputs": [
    {
     "data": {
      "text/plain": [
       "80000"
      ]
     },
     "execution_count": 7,
     "metadata": {},
     "output_type": "execute_result"
    }
   ],
   "source": [
    "len(train_data)"
   ]
  },
  {
   "cell_type": "code",
   "execution_count": 8,
   "metadata": {},
   "outputs": [
    {
     "name": "stdout",
     "output_type": "stream",
     "text": [
      "nums GPU: 0\n",
      "\n",
      " \t ----------- Model = Baseline Double DQN ------------\n",
      "\t Loading Policy Net ......\n",
      "\t *Total Params* =  8645\n",
      "\t *Trainable Params* =  8645\n",
      "\t Loading Target Net ......\n",
      "\n",
      " \t ----------- Model Loaded ------------\n"
     ]
    }
   ],
   "source": [
    "Agent = Reco_Agent(train_data, test_data)"
   ]
  },
  {
   "cell_type": "code",
   "execution_count": null,
   "metadata": {},
   "outputs": [
    {
     "name": "stdout",
     "output_type": "stream",
     "text": [
      "episode: 0\n",
      "User Rating: 4\n",
      "Predicted Rating: 2\n",
      "Reward: -1\n",
      "exploit vs explore: 0.9999050047498417\n",
      "episode: 1000\n",
      "User Rating: 3\n",
      "Predicted Rating: 3\n",
      "Reward: 3\n",
      "exploit vs explore: 0.9095095918772826\n",
      "episode: 2000\n",
      "User Rating: 5\n",
      "Predicted Rating: 3\n",
      "Reward: -1\n",
      "exploit vs explore: 0.8277164398913818\n",
      "episode: 3000\n",
      "User Rating: 1\n",
      "Predicted Rating: 4\n",
      "Reward: -3\n",
      "exploit vs explore: 0.7537069354354364\n",
      "episode: 4000\n",
      "User Rating: 4\n",
      "Predicted Rating: 1\n",
      "Reward: -3\n",
      "exploit vs explore: 0.6867403665133981\n"
     ]
    }
   ],
   "source": [
    "Agent.train()\n"
   ]
  },
  {
   "cell_type": "code",
   "execution_count": null,
   "metadata": {},
   "outputs": [],
   "source": []
  }
 ],
 "metadata": {
  "kernelspec": {
   "display_name": "Python 3 (ipykernel)",
   "language": "python",
   "name": "python3"
  },
  "language_info": {
   "codemirror_mode": {
    "name": "ipython",
    "version": 3
   },
   "file_extension": ".py",
   "mimetype": "text/x-python",
   "name": "python",
   "nbconvert_exporter": "python",
   "pygments_lexer": "ipython3",
   "version": "3.9.19"
  }
 },
 "nbformat": 4,
 "nbformat_minor": 4
}
